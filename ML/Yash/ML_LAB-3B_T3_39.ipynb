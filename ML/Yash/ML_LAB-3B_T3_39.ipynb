{
 "cells": [
  {
   "cell_type": "markdown",
   "metadata": {
    "id": "mAwnr5AVa20a"
   },
   "source": [
    "# LAB 3B: Implement multiple linear regression"
   ]
  },
  {
   "cell_type": "markdown",
   "metadata": {
    "id": "MM6oIYvXa20c"
   },
   "source": [
    "### Import Libraries"
   ]
  },
  {
   "cell_type": "code",
   "execution_count": 1,
   "metadata": {
    "id": "IhxVmi2ga20c"
   },
   "outputs": [],
   "source": [
    "import numpy as np\n",
    "import pandas as pd\n",
    "import matplotlib.pyplot as plt\n",
    "import seaborn as sns"
   ]
  },
  {
   "cell_type": "markdown",
   "metadata": {
    "id": "a7jPtwaba20d"
   },
   "source": [
    "### Import Dataset"
   ]
  },
  {
   "cell_type": "code",
   "execution_count": 2,
   "metadata": {
    "id": "gtXIlpMAa20e"
   },
   "outputs": [],
   "source": [
    "dataset = pd.read_csv(r\"C:\\Users\\msila\\Downloads\\50_Startups.csv\")    "
   ]
  },
  {
   "cell_type": "code",
   "execution_count": 3,
   "metadata": {
    "colab": {
     "base_uri": "https://localhost:8080/",
     "height": 206
    },
    "executionInfo": {
     "elapsed": 8,
     "status": "ok",
     "timestamp": 1684691225299,
     "user": {
      "displayName": "Shubham Aragade",
      "userId": "10525723912974249560"
     },
     "user_tz": -330
    },
    "id": "t7pXt1pga20e",
    "outputId": "e80ae2ee-bca1-4b76-cde0-4c65ac7f4886"
   },
   "outputs": [
    {
     "data": {
      "text/html": [
       "<div>\n",
       "<style scoped>\n",
       "    .dataframe tbody tr th:only-of-type {\n",
       "        vertical-align: middle;\n",
       "    }\n",
       "\n",
       "    .dataframe tbody tr th {\n",
       "        vertical-align: top;\n",
       "    }\n",
       "\n",
       "    .dataframe thead th {\n",
       "        text-align: right;\n",
       "    }\n",
       "</style>\n",
       "<table border=\"1\" class=\"dataframe\">\n",
       "  <thead>\n",
       "    <tr style=\"text-align: right;\">\n",
       "      <th></th>\n",
       "      <th>R&amp;D Spend</th>\n",
       "      <th>Administration</th>\n",
       "      <th>Marketing Spend</th>\n",
       "      <th>State</th>\n",
       "      <th>Profit</th>\n",
       "    </tr>\n",
       "  </thead>\n",
       "  <tbody>\n",
       "    <tr>\n",
       "      <th>0</th>\n",
       "      <td>165349.20</td>\n",
       "      <td>136897.80</td>\n",
       "      <td>471784.10</td>\n",
       "      <td>New York</td>\n",
       "      <td>192261.83</td>\n",
       "    </tr>\n",
       "    <tr>\n",
       "      <th>1</th>\n",
       "      <td>162597.70</td>\n",
       "      <td>151377.59</td>\n",
       "      <td>443898.53</td>\n",
       "      <td>California</td>\n",
       "      <td>191792.06</td>\n",
       "    </tr>\n",
       "    <tr>\n",
       "      <th>2</th>\n",
       "      <td>153441.51</td>\n",
       "      <td>101145.55</td>\n",
       "      <td>407934.54</td>\n",
       "      <td>Florida</td>\n",
       "      <td>191050.39</td>\n",
       "    </tr>\n",
       "    <tr>\n",
       "      <th>3</th>\n",
       "      <td>144372.41</td>\n",
       "      <td>118671.85</td>\n",
       "      <td>383199.62</td>\n",
       "      <td>New York</td>\n",
       "      <td>182901.99</td>\n",
       "    </tr>\n",
       "    <tr>\n",
       "      <th>4</th>\n",
       "      <td>142107.34</td>\n",
       "      <td>91391.77</td>\n",
       "      <td>366168.42</td>\n",
       "      <td>Florida</td>\n",
       "      <td>166187.94</td>\n",
       "    </tr>\n",
       "  </tbody>\n",
       "</table>\n",
       "</div>"
      ],
      "text/plain": [
       "   R&D Spend  Administration  Marketing Spend       State     Profit\n",
       "0  165349.20       136897.80        471784.10    New York  192261.83\n",
       "1  162597.70       151377.59        443898.53  California  191792.06\n",
       "2  153441.51       101145.55        407934.54     Florida  191050.39\n",
       "3  144372.41       118671.85        383199.62    New York  182901.99\n",
       "4  142107.34        91391.77        366168.42     Florida  166187.94"
      ]
     },
     "execution_count": 3,
     "metadata": {},
     "output_type": "execute_result"
    }
   ],
   "source": [
    "dataset.head()"
   ]
  },
  {
   "cell_type": "code",
   "execution_count": 4,
   "metadata": {
    "colab": {
     "base_uri": "https://localhost:8080/"
    },
    "executionInfo": {
     "elapsed": 9,
     "status": "ok",
     "timestamp": 1684691228848,
     "user": {
      "displayName": "Shubham Aragade",
      "userId": "10525723912974249560"
     },
     "user_tz": -330
    },
    "id": "0pMmLYWUa20f",
    "outputId": "040aaf8d-9ee9-4001-b624-f6fd1d34001f"
   },
   "outputs": [
    {
     "data": {
      "text/plain": [
       "(50, 5)"
      ]
     },
     "execution_count": 4,
     "metadata": {},
     "output_type": "execute_result"
    }
   ],
   "source": [
    "dataset.shape"
   ]
  },
  {
   "cell_type": "code",
   "execution_count": 5,
   "metadata": {
    "colab": {
     "base_uri": "https://localhost:8080/"
    },
    "executionInfo": {
     "elapsed": 6,
     "status": "ok",
     "timestamp": 1684691229514,
     "user": {
      "displayName": "Shubham Aragade",
      "userId": "10525723912974249560"
     },
     "user_tz": -330
    },
    "id": "tUcSQF04a20g",
    "outputId": "00447070-ad00-4c51-afd6-f3b343fa6e89"
   },
   "outputs": [
    {
     "data": {
      "text/plain": [
       "Index(['R&D Spend', 'Administration', 'Marketing Spend', 'State', 'Profit'], dtype='object')"
      ]
     },
     "execution_count": 5,
     "metadata": {},
     "output_type": "execute_result"
    }
   ],
   "source": [
    "dataset.columns"
   ]
  },
  {
   "cell_type": "code",
   "execution_count": 6,
   "metadata": {
    "colab": {
     "base_uri": "https://localhost:8080/"
    },
    "executionInfo": {
     "elapsed": 432,
     "status": "ok",
     "timestamp": 1684691231932,
     "user": {
      "displayName": "Shubham Aragade",
      "userId": "10525723912974249560"
     },
     "user_tz": -330
    },
    "id": "Qy5asbCNa20g",
    "outputId": "1fbac25d-dfc1-4ed6-9905-1f19b03c7815"
   },
   "outputs": [
    {
     "name": "stdout",
     "output_type": "stream",
     "text": [
      "<class 'pandas.core.frame.DataFrame'>\n",
      "RangeIndex: 50 entries, 0 to 49\n",
      "Data columns (total 5 columns):\n",
      " #   Column           Non-Null Count  Dtype  \n",
      "---  ------           --------------  -----  \n",
      " 0   R&D Spend        50 non-null     float64\n",
      " 1   Administration   50 non-null     float64\n",
      " 2   Marketing Spend  50 non-null     float64\n",
      " 3   State            50 non-null     object \n",
      " 4   Profit           50 non-null     float64\n",
      "dtypes: float64(4), object(1)\n",
      "memory usage: 2.1+ KB\n"
     ]
    }
   ],
   "source": [
    "dataset.info()"
   ]
  },
  {
   "cell_type": "markdown",
   "metadata": {
    "id": "9xq_jXFka20h"
   },
   "source": [
    "## Step 1: Divide dataframe into independent variable/ input and dependent / output features"
   ]
  },
  {
   "cell_type": "code",
   "execution_count": 7,
   "metadata": {
    "id": "AI8bKMYga20h"
   },
   "outputs": [],
   "source": [
    "X = dataset.iloc[:,:-1]\n",
    "Y = dataset.iloc[:,-1]"
   ]
  },
  {
   "cell_type": "code",
   "execution_count": 8,
   "metadata": {
    "colab": {
     "base_uri": "https://localhost:8080/"
    },
    "executionInfo": {
     "elapsed": 8,
     "status": "ok",
     "timestamp": 1684691247246,
     "user": {
      "displayName": "Shubham Aragade",
      "userId": "10525723912974249560"
     },
     "user_tz": -330
    },
    "id": "TWZ_-UhEa20h",
    "outputId": "a2c23f9e-c358-4b32-ada3-44175e08f4e0"
   },
   "outputs": [
    {
     "name": "stdout",
     "output_type": "stream",
     "text": [
      "   R&D Spend  Administration  Marketing Spend       State\n",
      "0  165349.20       136897.80        471784.10    New York\n",
      "1  162597.70       151377.59        443898.53  California\n",
      "2  153441.51       101145.55        407934.54     Florida\n",
      "3  144372.41       118671.85        383199.62    New York\n",
      "4  142107.34        91391.77        366168.42     Florida\n",
      "0    192261.83\n",
      "1    191792.06\n",
      "2    191050.39\n",
      "3    182901.99\n",
      "4    166187.94\n",
      "Name: Profit, dtype: float64\n"
     ]
    }
   ],
   "source": [
    "print(X.head())\n",
    "print(Y.head())"
   ]
  },
  {
   "cell_type": "markdown",
   "metadata": {
    "id": "fwJ_Q_CFa20h"
   },
   "source": [
    "### Encoding the Categorical Data\n"
   ]
  },
  {
   "cell_type": "code",
   "execution_count": 9,
   "metadata": {
    "colab": {
     "base_uri": "https://localhost:8080/"
    },
    "executionInfo": {
     "elapsed": 3,
     "status": "ok",
     "timestamp": 1684691250279,
     "user": {
      "displayName": "Shubham Aragade",
      "userId": "10525723912974249560"
     },
     "user_tz": -330
    },
    "id": "vLe0FJ0Ea20i",
    "outputId": "5fa2d298-b403-4ba7-bb48-720d241769cc"
   },
   "outputs": [
    {
     "data": {
      "text/plain": [
       "New York      17\n",
       "California    17\n",
       "Florida       16\n",
       "Name: State, dtype: int64"
      ]
     },
     "execution_count": 9,
     "metadata": {},
     "output_type": "execute_result"
    }
   ],
   "source": [
    "dataset['State'].value_counts()"
   ]
  },
  {
   "cell_type": "code",
   "execution_count": 10,
   "metadata": {
    "id": "PAtrNvsha20i"
   },
   "outputs": [],
   "source": [
    "# as we have 3 categories \n",
    "# so we use one hot encoder\n",
    "from sklearn.compose import ColumnTransformer\n",
    "from sklearn.preprocessing import OneHotEncoder\n",
    "\n",
    "ct= ColumnTransformer(transformers = [('encoder', OneHotEncoder(),[3])],remainder='passthrough')\n",
    "X=np.array(ct.fit_transform(X))"
   ]
  },
  {
   "cell_type": "code",
   "execution_count": 11,
   "metadata": {
    "colab": {
     "base_uri": "https://localhost:8080/"
    },
    "executionInfo": {
     "elapsed": 445,
     "status": "ok",
     "timestamp": 1684691259198,
     "user": {
      "displayName": "Shubham Aragade",
      "userId": "10525723912974249560"
     },
     "user_tz": -330
    },
    "id": "-mkTc0Xva20i",
    "outputId": "d583e32d-7910-4ca5-b051-f709c0860500"
   },
   "outputs": [
    {
     "name": "stdout",
     "output_type": "stream",
     "text": [
      "[[0.0000000e+00 0.0000000e+00 1.0000000e+00 1.6534920e+05 1.3689780e+05\n",
      "  4.7178410e+05]\n",
      " [1.0000000e+00 0.0000000e+00 0.0000000e+00 1.6259770e+05 1.5137759e+05\n",
      "  4.4389853e+05]\n",
      " [0.0000000e+00 1.0000000e+00 0.0000000e+00 1.5344151e+05 1.0114555e+05\n",
      "  4.0793454e+05]\n",
      " [0.0000000e+00 0.0000000e+00 1.0000000e+00 1.4437241e+05 1.1867185e+05\n",
      "  3.8319962e+05]\n",
      " [0.0000000e+00 1.0000000e+00 0.0000000e+00 1.4210734e+05 9.1391770e+04\n",
      "  3.6616842e+05]\n",
      " [0.0000000e+00 0.0000000e+00 1.0000000e+00 1.3187690e+05 9.9814710e+04\n",
      "  3.6286136e+05]\n",
      " [1.0000000e+00 0.0000000e+00 0.0000000e+00 1.3461546e+05 1.4719887e+05\n",
      "  1.2771682e+05]\n",
      " [0.0000000e+00 1.0000000e+00 0.0000000e+00 1.3029813e+05 1.4553006e+05\n",
      "  3.2387668e+05]\n",
      " [0.0000000e+00 0.0000000e+00 1.0000000e+00 1.2054252e+05 1.4871895e+05\n",
      "  3.1161329e+05]\n",
      " [1.0000000e+00 0.0000000e+00 0.0000000e+00 1.2333488e+05 1.0867917e+05\n",
      "  3.0498162e+05]\n",
      " [0.0000000e+00 1.0000000e+00 0.0000000e+00 1.0191308e+05 1.1059411e+05\n",
      "  2.2916095e+05]\n",
      " [1.0000000e+00 0.0000000e+00 0.0000000e+00 1.0067196e+05 9.1790610e+04\n",
      "  2.4974455e+05]\n",
      " [0.0000000e+00 1.0000000e+00 0.0000000e+00 9.3863750e+04 1.2732038e+05\n",
      "  2.4983944e+05]\n",
      " [1.0000000e+00 0.0000000e+00 0.0000000e+00 9.1992390e+04 1.3549507e+05\n",
      "  2.5266493e+05]\n",
      " [0.0000000e+00 1.0000000e+00 0.0000000e+00 1.1994324e+05 1.5654742e+05\n",
      "  2.5651292e+05]\n",
      " [0.0000000e+00 0.0000000e+00 1.0000000e+00 1.1452361e+05 1.2261684e+05\n",
      "  2.6177623e+05]\n",
      " [1.0000000e+00 0.0000000e+00 0.0000000e+00 7.8013110e+04 1.2159755e+05\n",
      "  2.6434606e+05]\n",
      " [0.0000000e+00 0.0000000e+00 1.0000000e+00 9.4657160e+04 1.4507758e+05\n",
      "  2.8257431e+05]\n",
      " [0.0000000e+00 1.0000000e+00 0.0000000e+00 9.1749160e+04 1.1417579e+05\n",
      "  2.9491957e+05]\n",
      " [0.0000000e+00 0.0000000e+00 1.0000000e+00 8.6419700e+04 1.5351411e+05\n",
      "  0.0000000e+00]\n",
      " [1.0000000e+00 0.0000000e+00 0.0000000e+00 7.6253860e+04 1.1386730e+05\n",
      "  2.9866447e+05]\n",
      " [0.0000000e+00 0.0000000e+00 1.0000000e+00 7.8389470e+04 1.5377343e+05\n",
      "  2.9973729e+05]\n",
      " [0.0000000e+00 1.0000000e+00 0.0000000e+00 7.3994560e+04 1.2278275e+05\n",
      "  3.0331926e+05]\n",
      " [0.0000000e+00 1.0000000e+00 0.0000000e+00 6.7532530e+04 1.0575103e+05\n",
      "  3.0476873e+05]\n",
      " [0.0000000e+00 0.0000000e+00 1.0000000e+00 7.7044010e+04 9.9281340e+04\n",
      "  1.4057481e+05]\n",
      " [1.0000000e+00 0.0000000e+00 0.0000000e+00 6.4664710e+04 1.3955316e+05\n",
      "  1.3796262e+05]\n",
      " [0.0000000e+00 1.0000000e+00 0.0000000e+00 7.5328870e+04 1.4413598e+05\n",
      "  1.3405007e+05]\n",
      " [0.0000000e+00 0.0000000e+00 1.0000000e+00 7.2107600e+04 1.2786455e+05\n",
      "  3.5318381e+05]\n",
      " [0.0000000e+00 1.0000000e+00 0.0000000e+00 6.6051520e+04 1.8264556e+05\n",
      "  1.1814820e+05]\n",
      " [0.0000000e+00 0.0000000e+00 1.0000000e+00 6.5605480e+04 1.5303206e+05\n",
      "  1.0713838e+05]\n",
      " [0.0000000e+00 1.0000000e+00 0.0000000e+00 6.1994480e+04 1.1564128e+05\n",
      "  9.1131240e+04]\n",
      " [0.0000000e+00 0.0000000e+00 1.0000000e+00 6.1136380e+04 1.5270192e+05\n",
      "  8.8218230e+04]\n",
      " [1.0000000e+00 0.0000000e+00 0.0000000e+00 6.3408860e+04 1.2921961e+05\n",
      "  4.6085250e+04]\n",
      " [0.0000000e+00 1.0000000e+00 0.0000000e+00 5.5493950e+04 1.0305749e+05\n",
      "  2.1463481e+05]\n",
      " [1.0000000e+00 0.0000000e+00 0.0000000e+00 4.6426070e+04 1.5769392e+05\n",
      "  2.1079767e+05]\n",
      " [0.0000000e+00 0.0000000e+00 1.0000000e+00 4.6014020e+04 8.5047440e+04\n",
      "  2.0551764e+05]\n",
      " [0.0000000e+00 1.0000000e+00 0.0000000e+00 2.8663760e+04 1.2705621e+05\n",
      "  2.0112682e+05]\n",
      " [1.0000000e+00 0.0000000e+00 0.0000000e+00 4.4069950e+04 5.1283140e+04\n",
      "  1.9702942e+05]\n",
      " [0.0000000e+00 0.0000000e+00 1.0000000e+00 2.0229590e+04 6.5947930e+04\n",
      "  1.8526510e+05]\n",
      " [1.0000000e+00 0.0000000e+00 0.0000000e+00 3.8558510e+04 8.2982090e+04\n",
      "  1.7499930e+05]\n",
      " [1.0000000e+00 0.0000000e+00 0.0000000e+00 2.8754330e+04 1.1854605e+05\n",
      "  1.7279567e+05]\n",
      " [0.0000000e+00 1.0000000e+00 0.0000000e+00 2.7892920e+04 8.4710770e+04\n",
      "  1.6447071e+05]\n",
      " [1.0000000e+00 0.0000000e+00 0.0000000e+00 2.3640930e+04 9.6189630e+04\n",
      "  1.4800111e+05]\n",
      " [0.0000000e+00 0.0000000e+00 1.0000000e+00 1.5505730e+04 1.2738230e+05\n",
      "  3.5534170e+04]\n",
      " [1.0000000e+00 0.0000000e+00 0.0000000e+00 2.2177740e+04 1.5480614e+05\n",
      "  2.8334720e+04]\n",
      " [0.0000000e+00 0.0000000e+00 1.0000000e+00 1.0002300e+03 1.2415304e+05\n",
      "  1.9039300e+03]\n",
      " [0.0000000e+00 1.0000000e+00 0.0000000e+00 1.3154600e+03 1.1581621e+05\n",
      "  2.9711446e+05]\n",
      " [1.0000000e+00 0.0000000e+00 0.0000000e+00 0.0000000e+00 1.3542692e+05\n",
      "  0.0000000e+00]\n",
      " [0.0000000e+00 0.0000000e+00 1.0000000e+00 5.4205000e+02 5.1743150e+04\n",
      "  0.0000000e+00]\n",
      " [1.0000000e+00 0.0000000e+00 0.0000000e+00 0.0000000e+00 1.1698380e+05\n",
      "  4.5173060e+04]]\n"
     ]
    }
   ],
   "source": [
    "print(X)"
   ]
  },
  {
   "cell_type": "markdown",
   "metadata": {
    "id": "4S1W6aCra20i"
   },
   "source": [
    "### Step 4: Split the data into training and testing"
   ]
  },
  {
   "cell_type": "code",
   "execution_count": 12,
   "metadata": {
    "id": "4uZijwiga20i"
   },
   "outputs": [],
   "source": [
    "from sklearn.model_selection import train_test_split\n",
    "X_train, X_test,Y_train,Y_test = train_test_split(X,Y,test_size=0.2,random_state=39)"
   ]
  },
  {
   "cell_type": "code",
   "execution_count": 13,
   "metadata": {
    "colab": {
     "base_uri": "https://localhost:8080/"
    },
    "executionInfo": {
     "elapsed": 5,
     "status": "ok",
     "timestamp": 1684691264638,
     "user": {
      "displayName": "Shubham Aragade",
      "userId": "10525723912974249560"
     },
     "user_tz": -330
    },
    "id": "M7ynt8KNa20i",
    "outputId": "2fa41fa8-6cdb-4ffd-db9c-0f3aa3a6ebf8"
   },
   "outputs": [
    {
     "name": "stdout",
     "output_type": "stream",
     "text": [
      "(40, 6)\n",
      "(10, 6)\n"
     ]
    }
   ],
   "source": [
    "print(X_train.shape)\n",
    "print(X_test.shape)"
   ]
  },
  {
   "cell_type": "markdown",
   "metadata": {
    "id": "R8TnzN74a20j"
   },
   "source": [
    "## Lets test linear regression model on training data"
   ]
  },
  {
   "cell_type": "code",
   "execution_count": 14,
   "metadata": {
    "colab": {
     "base_uri": "https://localhost:8080/",
     "height": 74
    },
    "executionInfo": {
     "elapsed": 738,
     "status": "ok",
     "timestamp": 1684691268006,
     "user": {
      "displayName": "Shubham Aragade",
      "userId": "10525723912974249560"
     },
     "user_tz": -330
    },
    "id": "MGHYLTvza20j",
    "outputId": "e763e436-c1f8-492d-cd97-d2314a396cf6"
   },
   "outputs": [
    {
     "data": {
      "text/plain": [
       "LinearRegression()"
      ]
     },
     "execution_count": 14,
     "metadata": {},
     "output_type": "execute_result"
    }
   ],
   "source": [
    "from sklearn.linear_model import LinearRegression\n",
    "regressor = LinearRegression()\n",
    "regressor.fit(X_train,Y_train)"
   ]
  },
  {
   "cell_type": "code",
   "execution_count": 15,
   "metadata": {
    "colab": {
     "base_uri": "https://localhost:8080/"
    },
    "executionInfo": {
     "elapsed": 8,
     "status": "ok",
     "timestamp": 1684691270163,
     "user": {
      "displayName": "Shubham Aragade",
      "userId": "10525723912974249560"
     },
     "user_tz": -330
    },
    "id": "EO54nTPIa20j",
    "outputId": "98b696da-3109-4534-e7fa-4be7582804eb"
   },
   "outputs": [
    {
     "name": "stdout",
     "output_type": "stream",
     "text": [
      "coefficient for state=California (B1) =  -732.9353545026711\n",
      "coefficient for state=Florida (B2) =  1030.825446169579\n",
      "coefficient for state=New York (B3) =  -297.89009167971875\n",
      "coefficient for R&D (B4) =  0.7843050199610812\n",
      "coefficient for Adminstration (B5) =  -0.03246118098078644\n",
      "coefficient for Marketing Spent (B6) =  0.024559855016315302\n",
      "Initial Profit Intercept (B0) =  51961.881251041166\n"
     ]
    }
   ],
   "source": [
    "print(\"coefficient for state=California (B1) = \", regressor.coef_[0])\n",
    "print(\"coefficient for state=Florida (B2) = \" ,regressor.coef_[1])\n",
    "print(\"coefficient for state=New York (B3) = \", regressor.coef_[2])\n",
    "print(\"coefficient for R&D (B4) = \" ,regressor.coef_[3])\n",
    "print(\"coefficient for Adminstration (B5) = \" ,regressor.coef_[4])\n",
    "print(\"coefficient for Marketing Spent (B6) = \", regressor.coef_[5])\n",
    "print(\"Initial Profit Intercept (B0) = \" ,regressor.intercept_)"
   ]
  },
  {
   "cell_type": "markdown",
   "metadata": {
    "id": "9Xuz5Aiwa20j"
   },
   "source": [
    "#### Predicting the test result"
   ]
  },
  {
   "cell_type": "code",
   "execution_count": 16,
   "metadata": {
    "id": "hBKJjAp7a20j"
   },
   "outputs": [],
   "source": [
    "ypred = regressor.predict(X_test)"
   ]
  },
  {
   "cell_type": "code",
   "execution_count": 17,
   "metadata": {
    "colab": {
     "base_uri": "https://localhost:8080/"
    },
    "executionInfo": {
     "elapsed": 4,
     "status": "ok",
     "timestamp": 1684691275100,
     "user": {
      "displayName": "Shubham Aragade",
      "userId": "10525723912974249560"
     },
     "user_tz": -330
    },
    "id": "V8JYDP7ta20k",
    "outputId": "405801be-2bc3-4e2b-c8bb-8336c74f3625"
   },
   "outputs": [
    {
     "name": "stdout",
     "output_type": "stream",
     "text": [
      "[180073.16241522 110011.08148546  46832.82813675 114960.12052268\n",
      " 100782.40014428 184743.32643399 170455.09577557  87699.37499089\n",
      " 114490.81553521 114460.14638508]\n",
      "2     191050.39\n",
      "23    108733.99\n",
      "47     42559.73\n",
      "16    126992.93\n",
      "29    101004.64\n",
      "1     191792.06\n",
      "3     182901.99\n",
      "34     96712.80\n",
      "22    110352.25\n",
      "19    122776.86\n",
      "Name: Profit, dtype: float64\n"
     ]
    }
   ],
   "source": [
    "print(ypred)\n",
    "print(Y_test)"
   ]
  },
  {
   "cell_type": "markdown",
   "metadata": {
    "id": "RvtyaCvda20k"
   },
   "source": [
    "### Testing the single instance"
   ]
  },
  {
   "cell_type": "markdown",
   "metadata": {
    "id": "f4NDRRVZa20k"
   },
   "source": [
    "**For example the profit of a startup with R&D spend=160000, Adminstration Spend= 130000, Marketing Spend = 300000 State='California'**\n",
    "\n",
    "I/P : [1,0,0, 160000, 130000, 300000]"
   ]
  },
  {
   "cell_type": "code",
   "execution_count": 18,
   "metadata": {
    "colab": {
     "base_uri": "https://localhost:8080/"
    },
    "executionInfo": {
     "elapsed": 696,
     "status": "ok",
     "timestamp": 1684691305437,
     "user": {
      "displayName": "Shubham Aragade",
      "userId": "10525723912974249560"
     },
     "user_tz": -330
    },
    "id": "qrtZE7EUa20k",
    "outputId": "cd921dce-75ea-4e5f-a311-f180e6b14b62"
   },
   "outputs": [
    {
     "data": {
      "text/plain": [
       "array([179865.7520677])"
      ]
     },
     "execution_count": 18,
     "metadata": {},
     "output_type": "execute_result"
    }
   ],
   "source": [
    "regressor.predict([[1,0,0, 160000, 130000, 300000]])    \n",
    "# [1,0,0,160.....] === 1,0,0 = California, Florida, New York"
   ]
  },
  {
   "cell_type": "markdown",
   "metadata": {
    "id": "hJpbid9Ha20k"
   },
   "source": [
    "# Accuracy of the model"
   ]
  },
  {
   "cell_type": "code",
   "execution_count": 19,
   "metadata": {
    "colab": {
     "base_uri": "https://localhost:8080/"
    },
    "executionInfo": {
     "elapsed": 3,
     "status": "ok",
     "timestamp": 1684691308673,
     "user": {
      "displayName": "Shubham Aragade",
      "userId": "10525723912974249560"
     },
     "user_tz": -330
    },
    "id": "4xAKnGH-a20k",
    "outputId": "a1cb8497-c4f1-4123-8bd5-76711846849f"
   },
   "outputs": [
    {
     "name": "stdout",
     "output_type": "stream",
     "text": [
      "Training Accuracy =  0.9390982119875835\n"
     ]
    }
   ],
   "source": [
    "# 1. Training Accuracy\n",
    "tr = regressor.score(X_train,Y_train)\n",
    "print(\"Training Accuracy = \", tr)"
   ]
  },
  {
   "cell_type": "code",
   "execution_count": 20,
   "metadata": {
    "colab": {
     "base_uri": "https://localhost:8080/"
    },
    "executionInfo": {
     "elapsed": 8,
     "status": "ok",
     "timestamp": 1684691310720,
     "user": {
      "displayName": "Shubham Aragade",
      "userId": "10525723912974249560"
     },
     "user_tz": -330
    },
    "id": "CEIXaXkga20l",
    "outputId": "5266f756-9d38-4b34-9474-83d639d01114"
   },
   "outputs": [
    {
     "name": "stdout",
     "output_type": "stream",
     "text": [
      "Testing Accuracy =  0.9683573757861111\n"
     ]
    }
   ],
   "source": [
    "# 1. Test Accuracy\n",
    "te = regressor.score(X_test,Y_test)\n",
    "print(\"Testing Accuracy = \", te)"
   ]
  },
  {
   "cell_type": "markdown",
   "metadata": {
    "id": "_tCWDsK_a20l"
   },
   "source": [
    "#### Build Residual Error Plot"
   ]
  },
  {
   "cell_type": "code",
   "execution_count": 21,
   "metadata": {
    "colab": {
     "base_uri": "https://localhost:8080/",
     "height": 508
    },
    "executionInfo": {
     "elapsed": 911,
     "status": "ok",
     "timestamp": 1684691314208,
     "user": {
      "displayName": "Shubham Aragade",
      "userId": "10525723912974249560"
     },
     "user_tz": -330
    },
    "id": "4IOguCD7a20l",
    "outputId": "1bc35882-baef-4289-e4df-0034d2366703"
   },
   "outputs": [
    {
     "data": {
      "image/png": "[encoded data removed]",
      "text/plain": [
       "<Figure size 640x480 with 1 Axes>"
      ]
     },
     "metadata": {},
     "output_type": "display_data"
    }
   ],
   "source": [
    "# Setting plot style\n",
    "plt.style.use('fivethirtyeight')\n",
    "\n",
    "plt.scatter(regressor.predict(X_train), regressor.predict(X_train)-Y_train, color = 'green', s=20)\n",
    "plt.hlines(y=0, xmin=0,xmax=200000,linewidth=2)\n",
    "\n",
    "# Plotting resuidal errors in testing data\n",
    "plt.scatter(regressor.predict(X_test), regressor.predict(X_test)-Y_test, color = 'red', s=20)\n",
    "plt.hlines(y=0, xmin=0,xmax=200000,linewidth=2)\n",
    "plt.legend(['Training Data', 'Testing Data'],loc='upper right')\n",
    "plt.title(\"Resuidal Error\")\n",
    "plt.xlabel(\"Profit\")\n",
    "plt.ylabel(\"Error\")\n",
    "plt.show()"
   ]
  },
  {
   "cell_type": "markdown",
   "metadata": {
    "id": "ZFaMeF-Ia20l"
   },
   "source": [
    "### R^2 Score"
   ]
  },
  {
   "cell_type": "code",
   "execution_count": 22,
   "metadata": {
    "colab": {
     "base_uri": "https://localhost:8080/"
    },
    "executionInfo": {
     "elapsed": 7,
     "status": "ok",
     "timestamp": 1684691316861,
     "user": {
      "displayName": "Shubham Aragade",
      "userId": "10525723912974249560"
     },
     "user_tz": -330
    },
    "id": "Ryb5NJ2Ja20l",
    "outputId": "789a9dc0-668c-41fd-b20b-f698bf6d5283"
   },
   "outputs": [
    {
     "data": {
      "text/plain": [
       "0.9683573757861111"
      ]
     },
     "execution_count": 22,
     "metadata": {},
     "output_type": "execute_result"
    }
   ],
   "source": [
    "from sklearn.metrics import r2_score\n",
    "r2_score(Y_test,ypred)"
   ]
  },
  {
   "cell_type": "code",
   "execution_count": 23,
   "metadata": {
    "colab": {
     "base_uri": "https://localhost:8080/"
    },
    "executionInfo": {
     "elapsed": 678,
     "status": "ok",
     "timestamp": 1684691319208,
     "user": {
      "displayName": "Shubham Aragade",
      "userId": "10525723912974249560"
     },
     "user_tz": -330
    },
    "id": "_ArB2EVPa20m",
    "outputId": "18b20370-1ee6-4054-99e2-f6e2dfce1776"
   },
   "outputs": [
    {
     "data": {
      "text/plain": [
       "0.9430962313330754"
      ]
     },
     "execution_count": 23,
     "metadata": {},
     "output_type": "execute_result"
    }
   ],
   "source": [
    "r2_score(regressor.predict(X),Y)"
   ]
  },
  {
   "cell_type": "code",
   "execution_count": 24,
   "metadata": {
    "colab": {
     "base_uri": "https://localhost:8080/"
    },
    "executionInfo": {
     "elapsed": 5,
     "status": "ok",
     "timestamp": 1684691321367,
     "user": {
      "displayName": "Shubham Aragade",
      "userId": "10525723912974249560"
     },
     "user_tz": -330
    },
    "id": "Ow8q0Psia20m",
    "outputId": "4794e4c2-89e0-4bed-8d69-1c9c02277554"
   },
   "outputs": [
    {
     "name": "stdout",
     "output_type": "stream",
     "text": [
      "Intercept:  51961.881251041166\n",
      "Coefficient:  [-7.32935355e+02  1.03082545e+03 -2.97890092e+02  7.84305020e-01\n",
      " -3.24611810e-02  2.45598550e-02]\n"
     ]
    }
   ],
   "source": [
    "print(\"Intercept: \", regressor.intercept_)\n",
    "print(\"Coefficient: \", regressor.coef_)"
   ]
  },
  {
   "cell_type": "markdown",
   "metadata": {
    "id": "LViYAs1_a20m"
   },
   "source": [
    "**Test Your Knowledge**"
   ]
  },
  {
   "cell_type": "markdown",
   "metadata": {
    "id": "Le7xxT8_a20t"
   },
   "source": [
    "**Q.Predict profit for { R&D Spend = 300000, Administration Spend = 160000, Marketing Spend = 200000, State = Florida}**"
   ]
  },
  {
   "cell_type": "code",
   "execution_count": 25,
   "metadata": {
    "colab": {
     "base_uri": "https://localhost:8080/"
    },
    "executionInfo": {
     "elapsed": 414,
     "status": "ok",
     "timestamp": 1684691413868,
     "user": {
      "displayName": "Shubham Aragade",
      "userId": "10525723912974249560"
     },
     "user_tz": -330
    },
    "id": "MkLjMrwLa20t",
    "outputId": "ffd5c304-9624-4163-d7c8-fab34730e7bb"
   },
   "outputs": [
    {
     "data": {
      "text/plain": [
       "array([288002.39473187])"
      ]
     },
     "execution_count": 25,
     "metadata": {},
     "output_type": "execute_result"
    }
   ],
   "source": [
    "regressor.predict([[0,1,0,300000,160000,200000]])"
   ]
  },
  {
   "cell_type": "markdown",
   "metadata": {
    "id": "v_IApf_Sa20t"
   },
   "source": [
    "**Q. Change the random_state parameter to any number while splitting data into train and test and write the following observations**"
   ]
  },
  {
   "cell_type": "code",
   "execution_count": 26,
   "metadata": {
    "colab": {
     "base_uri": "https://localhost:8080/",
     "height": 74
    },
    "executionInfo": {
     "elapsed": 467,
     "status": "ok",
     "timestamp": 1684691466888,
     "user": {
      "displayName": "Shubham Aragade",
      "userId": "10525723912974249560"
     },
     "user_tz": -330
    },
    "id": "llHl2NPAa20t",
    "outputId": "61c0ff2a-6513-4078-aec4-83739c13aa8a"
   },
   "outputs": [
    {
     "data": {
      "text/plain": [
       "LinearRegression()"
      ]
     },
     "execution_count": 26,
     "metadata": {},
     "output_type": "execute_result"
    }
   ],
   "source": [
    "# splitting into training and testing\n",
    "X_train, X_test,Y_train,Y_test = train_test_split(X,Y,test_size=0.2,random_state=9)\n",
    "\n",
    "# linear regression model\n",
    "from sklearn.linear_model import LinearRegression\n",
    "regressor = LinearRegression()\n",
    "regressor.fit(X_train,Y_train)"
   ]
  },
  {
   "cell_type": "code",
   "execution_count": 27,
   "metadata": {
    "colab": {
     "base_uri": "https://localhost:8080/"
    },
    "executionInfo": {
     "elapsed": 2,
     "status": "ok",
     "timestamp": 1684691467411,
     "user": {
      "displayName": "Shubham Aragade",
      "userId": "10525723912974249560"
     },
     "user_tz": -330
    },
    "id": "3luD_mMIa20u",
    "outputId": "4b3a771b-63b7-43e5-f363-4995ad706bf9"
   },
   "outputs": [
    {
     "data": {
      "text/plain": [
       "array([119819.55288793,  86354.20207816, 183301.32209455, 152445.18324333,\n",
       "        64875.520236  , 162565.6584855 , 148066.57136292, 115726.78239292,\n",
       "        98775.28101685, 102274.57539609])"
      ]
     },
     "execution_count": 27,
     "metadata": {},
     "output_type": "execute_result"
    }
   ],
   "source": [
    "# model on testing data\n",
    "ypred = regressor.predict(X_test)\n",
    "ypred"
   ]
  },
  {
   "cell_type": "code",
   "execution_count": 28,
   "metadata": {
    "colab": {
     "base_uri": "https://localhost:8080/"
    },
    "executionInfo": {
     "elapsed": 2,
     "status": "ok",
     "timestamp": 1684691467892,
     "user": {
      "displayName": "Shubham Aragade",
      "userId": "10525723912974249560"
     },
     "user_tz": -330
    },
    "id": "DeULTbHRa20u",
    "outputId": "b7f5a66e-495e-4197-9f54-bf6a34814841"
   },
   "outputs": [
    {
     "name": "stdout",
     "output_type": "stream",
     "text": [
      "Training accuracy:  0.9540900473337227\n",
      "Testing accuracy:  0.9153873936691888\n",
      "R**2 score:  0.9153873936691888\n"
     ]
    }
   ],
   "source": [
    "# Accuracy, R**2s\n",
    "print(\"Training accuracy: \",regressor.score(X_train,Y_train) )\n",
    "print(\"Testing accuracy: \",regressor.score(X_test,Y_test) )\n",
    "print(\"R**2 score: \",r2_score(Y_test,ypred) )"
   ]
  },
  {
   "cell_type": "code",
   "execution_count": 29,
   "metadata": {
    "colab": {
     "base_uri": "https://localhost:8080/"
    },
    "executionInfo": {
     "elapsed": 3,
     "status": "ok",
     "timestamp": 1684691469205,
     "user": {
      "displayName": "Shubham Aragade",
      "userId": "10525723912974249560"
     },
     "user_tz": -330
    },
    "id": "7iu_x99Ja20u",
    "outputId": "b4e563eb-fb73-472f-ffec-4fac8c9a08e2"
   },
   "outputs": [
    {
     "data": {
      "text/plain": [
       "array([297855.17193998])"
      ]
     },
     "execution_count": 29,
     "metadata": {},
     "output_type": "execute_result"
    }
   ],
   "source": [
    "# Predict profit for { R&D Spend = 300000, Administration Spend = 160000, Marketing Spend = 200000, State = Florida}\n",
    "regressor.predict([[0,1,0,300000,160000,200000]])"
   ]
  },
  {
   "cell_type": "code",
   "execution_count": 30,
   "metadata": {
    "colab": {
     "base_uri": "https://localhost:8080/"
    },
    "executionInfo": {
     "elapsed": 6,
     "status": "ok",
     "timestamp": 1684691470615,
     "user": {
      "displayName": "Shubham Aragade",
      "userId": "10525723912974249560"
     },
     "user_tz": -330
    },
    "id": "fLr5ijuYa20u",
    "outputId": "722a49d4-d9e7-42e1-a536-6d6ca92146b8"
   },
   "outputs": [
    {
     "name": "stdout",
     "output_type": "stream",
     "text": [
      "Intercept:  46178.34161941506\n",
      "Coefficient:  [-1.29527814e+03  5.67807340e+02  7.27470804e+02  8.15623658e-01\n",
      "  7.52203964e-03  2.60919967e-02]\n"
     ]
    }
   ],
   "source": [
    "# Intercept Coefficient\n",
    "print(\"Intercept: \", regressor.intercept_)\n",
    "print(\"Coefficient: \", regressor.coef_)"
   ]
  }
 ],
 "metadata": {
  "colab": {
   "provenance": []
  },
  "kernelspec": {
   "display_name": "Python 3 (ipykernel)",
   "language": "python",
   "name": "python3"
  },
  "language_info": {
   "codemirror_mode": {
    "name": "ipython",
    "version": 3
   },
   "file_extension": ".py",
   "mimetype": "text/x-python",
   "name": "python",
   "nbconvert_exporter": "python",
   "pygments_lexer": "ipython3",
   "version": "3.9.13"
  }
 },
 "nbformat": 4,
 "nbformat_minor": 1
}
