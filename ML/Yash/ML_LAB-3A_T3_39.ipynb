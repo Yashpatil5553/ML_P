{
 "cells": [
  {
   "cell_type": "markdown",
   "metadata": {
    "id": "1iGrL-b-WpAV"
   },
   "source": [
    "# Lab 3A: Implement Simple Linear Regression "
   ]
  },
  {
   "cell_type": "markdown",
   "metadata": {
    "id": "iB7Sz9QFWpAc"
   },
   "source": [
    "## Import Libraries"
   ]
  },
  {
   "cell_type": "code",
   "execution_count": 1,
   "metadata": {
    "id": "1xp_xukuWpAd"
   },
   "outputs": [],
   "source": [
    "import pandas as pd\n",
    "import numpy as np\n",
    "import matplotlib.pyplot as plt\n",
    "import seaborn as sns"
   ]
  },
  {
   "cell_type": "markdown",
   "metadata": {
    "id": "1e5PytQLWpAi"
   },
   "source": [
    "## Import Dataset"
   ]
  },
  {
   "cell_type": "code",
   "execution_count": 2,
   "metadata": {
    "id": "Kr4zISvxWpAo"
   },
   "outputs": [],
   "source": [
    "dataset = pd.read_csv(\"C:\\\\Users\\\\msila\\\\Downloads\\\\Salary.csv\")         "
   ]
  },
  {
   "cell_type": "code",
   "execution_count": 3,
   "metadata": {
    "colab": {
     "base_uri": "https://localhost:8080/",
     "height": 206
    },
    "executionInfo": {
     "elapsed": 48,
     "status": "ok",
     "timestamp": 1684690847475,
     "user": {
      "displayName": "Shubham Aragade",
      "userId": "10525723912974249560"
     },
     "user_tz": -330
    },
    "id": "nQ4lXR5DWpAp",
    "outputId": "bbb39ab8-ed7e-47ea-c1ab-a9fc52d581bf"
   },
   "outputs": [
    {
     "data": {
      "text/html": [
       "<div>\n",
       "<style scoped>\n",
       "    .dataframe tbody tr th:only-of-type {\n",
       "        vertical-align: middle;\n",
       "    }\n",
       "\n",
       "    .dataframe tbody tr th {\n",
       "        vertical-align: top;\n",
       "    }\n",
       "\n",
       "    .dataframe thead th {\n",
       "        text-align: right;\n",
       "    }\n",
       "</style>\n",
       "<table border=\"1\" class=\"dataframe\">\n",
       "  <thead>\n",
       "    <tr style=\"text-align: right;\">\n",
       "      <th></th>\n",
       "      <th>YearsExperience</th>\n",
       "      <th>Salary</th>\n",
       "    </tr>\n",
       "  </thead>\n",
       "  <tbody>\n",
       "    <tr>\n",
       "      <th>0</th>\n",
       "      <td>1.1</td>\n",
       "      <td>39343.0</td>\n",
       "    </tr>\n",
       "    <tr>\n",
       "      <th>1</th>\n",
       "      <td>1.3</td>\n",
       "      <td>46205.0</td>\n",
       "    </tr>\n",
       "    <tr>\n",
       "      <th>2</th>\n",
       "      <td>1.5</td>\n",
       "      <td>37731.0</td>\n",
       "    </tr>\n",
       "    <tr>\n",
       "      <th>3</th>\n",
       "      <td>2.0</td>\n",
       "      <td>43525.0</td>\n",
       "    </tr>\n",
       "    <tr>\n",
       "      <th>4</th>\n",
       "      <td>2.2</td>\n",
       "      <td>39891.0</td>\n",
       "    </tr>\n",
       "  </tbody>\n",
       "</table>\n",
       "</div>"
      ],
      "text/plain": [
       "   YearsExperience   Salary\n",
       "0              1.1  39343.0\n",
       "1              1.3  46205.0\n",
       "2              1.5  37731.0\n",
       "3              2.0  43525.0\n",
       "4              2.2  39891.0"
      ]
     },
     "execution_count": 3,
     "metadata": {},
     "output_type": "execute_result"
    }
   ],
   "source": [
    "dataset.head()"
   ]
  },
  {
   "cell_type": "code",
   "execution_count": 4,
   "metadata": {
    "colab": {
     "base_uri": "https://localhost:8080/"
    },
    "executionInfo": {
     "elapsed": 43,
     "status": "ok",
     "timestamp": 1684690847476,
     "user": {
      "displayName": "Shubham Aragade",
      "userId": "10525723912974249560"
     },
     "user_tz": -330
    },
    "id": "UYxOjW3fWpAq",
    "outputId": "abba4ce8-20fd-450b-ed07-581ed19b8704"
   },
   "outputs": [
    {
     "data": {
      "text/plain": [
       "(30, 2)"
      ]
     },
     "execution_count": 4,
     "metadata": {},
     "output_type": "execute_result"
    }
   ],
   "source": [
    "dataset.shape"
   ]
  },
  {
   "cell_type": "code",
   "execution_count": 5,
   "metadata": {
    "colab": {
     "base_uri": "https://localhost:8080/"
    },
    "executionInfo": {
     "elapsed": 36,
     "status": "ok",
     "timestamp": 1684690847476,
     "user": {
      "displayName": "Shubham Aragade",
      "userId": "10525723912974249560"
     },
     "user_tz": -330
    },
    "id": "TTtqCfc-WpAq",
    "outputId": "c9fa3236-699e-42ce-8aa4-315a64283ae1"
   },
   "outputs": [
    {
     "data": {
      "text/plain": [
       "Index(['YearsExperience', 'Salary'], dtype='object')"
      ]
     },
     "execution_count": 5,
     "metadata": {},
     "output_type": "execute_result"
    }
   ],
   "source": [
    "dataset.columns"
   ]
  },
  {
   "cell_type": "code",
   "execution_count": 6,
   "metadata": {
    "colab": {
     "base_uri": "https://localhost:8080/"
    },
    "executionInfo": {
     "elapsed": 32,
     "status": "ok",
     "timestamp": 1684690847476,
     "user": {
      "displayName": "Shubham Aragade",
      "userId": "10525723912974249560"
     },
     "user_tz": -330
    },
    "id": "Ig5WCIM5WpAr",
    "outputId": "b36a615a-49f5-46fb-f01b-61cab3ca9828"
   },
   "outputs": [
    {
     "name": "stdout",
     "output_type": "stream",
     "text": [
      "<class 'pandas.core.frame.DataFrame'>\n",
      "RangeIndex: 30 entries, 0 to 29\n",
      "Data columns (total 2 columns):\n",
      " #   Column           Non-Null Count  Dtype  \n",
      "---  ------           --------------  -----  \n",
      " 0   YearsExperience  30 non-null     float64\n",
      " 1   Salary           30 non-null     float64\n",
      "dtypes: float64(2)\n",
      "memory usage: 608.0 bytes\n"
     ]
    }
   ],
   "source": [
    "dataset.info()"
   ]
  },
  {
   "cell_type": "markdown",
   "metadata": {
    "id": "etAZjB1BWpAr"
   },
   "source": [
    "### Preprocessing steps"
   ]
  },
  {
   "cell_type": "code",
   "execution_count": 7,
   "metadata": {
    "id": "dCQCdsrEWpAr"
   },
   "outputs": [],
   "source": [
    "# Step 1: Divide dataframe into i/p independent variable and output dependent features\n",
    "X= dataset.iloc[:,:-1]\n",
    "Y= dataset.iloc[:,-1]"
   ]
  },
  {
   "cell_type": "code",
   "execution_count": 8,
   "metadata": {
    "colab": {
     "base_uri": "https://localhost:8080/"
    },
    "executionInfo": {
     "elapsed": 30,
     "status": "ok",
     "timestamp": 1684690847477,
     "user": {
      "displayName": "Shubham Aragade",
      "userId": "10525723912974249560"
     },
     "user_tz": -330
    },
    "id": "-k8IT8_vWpAs",
    "outputId": "03c80565-6621-42fd-cc7f-fd4a0909908e"
   },
   "outputs": [
    {
     "name": "stdout",
     "output_type": "stream",
     "text": [
      "   YearsExperience\n",
      "0              1.1\n",
      "1              1.3\n",
      "2              1.5\n",
      "3              2.0\n",
      "4              2.2\n"
     ]
    }
   ],
   "source": [
    "print(X.head())"
   ]
  },
  {
   "cell_type": "code",
   "execution_count": 9,
   "metadata": {
    "colab": {
     "base_uri": "https://localhost:8080/"
    },
    "executionInfo": {
     "elapsed": 28,
     "status": "ok",
     "timestamp": 1684690847477,
     "user": {
      "displayName": "Shubham Aragade",
      "userId": "10525723912974249560"
     },
     "user_tz": -330
    },
    "id": "FppgmgkfWpAs",
    "outputId": "a01c658c-3271-40d8-d44a-bc08ea1afbab"
   },
   "outputs": [
    {
     "name": "stdout",
     "output_type": "stream",
     "text": [
      "0    39343.0\n",
      "1    46205.0\n",
      "2    37731.0\n",
      "3    43525.0\n",
      "4    39891.0\n",
      "Name: Salary, dtype: float64\n"
     ]
    }
   ],
   "source": [
    "print(Y.head())"
   ]
  },
  {
   "cell_type": "code",
   "execution_count": 10,
   "metadata": {
    "id": "SJf3qCERWpAs"
   },
   "outputs": [],
   "source": [
    "# Step 4: Spliting Data into Training and Testing\n",
    "from sklearn.model_selection import train_test_split\n",
    "\n",
    "X_train,X_test,Y_train,Y_test = train_test_split(X,Y,test_size=0.2,random_state=39)"
   ]
  },
  {
   "cell_type": "code",
   "execution_count": 11,
   "metadata": {
    "colab": {
     "base_uri": "https://localhost:8080/"
    },
    "executionInfo": {
     "elapsed": 26,
     "status": "ok",
     "timestamp": 1684690847478,
     "user": {
      "displayName": "Shubham Aragade",
      "userId": "10525723912974249560"
     },
     "user_tz": -330
    },
    "id": "hwC8Sa71WpAt",
    "outputId": "d86a75ac-69aa-4b52-a2be-0cb1cfca9d0a"
   },
   "outputs": [
    {
     "name": "stdout",
     "output_type": "stream",
     "text": [
      "(24, 1)\n",
      "(6, 1)\n"
     ]
    }
   ],
   "source": [
    "print(X_train.shape)\n",
    "print(X_test.shape)"
   ]
  },
  {
   "cell_type": "markdown",
   "metadata": {
    "id": "zF3FwihQWpAt"
   },
   "source": [
    "## Create Regression model on training data"
   ]
  },
  {
   "cell_type": "code",
   "execution_count": 12,
   "metadata": {
    "colab": {
     "base_uri": "https://localhost:8080/",
     "height": 74
    },
    "executionInfo": {
     "elapsed": 24,
     "status": "ok",
     "timestamp": 1684690847479,
     "user": {
      "displayName": "Shubham Aragade",
      "userId": "10525723912974249560"
     },
     "user_tz": -330
    },
    "id": "bI-wqXGJWpAt",
    "outputId": "c9544a29-a136-4dda-e16b-3bd21402e9d0"
   },
   "outputs": [
    {
     "data": {
      "text/plain": [
       "LinearRegression()"
      ]
     },
     "execution_count": 12,
     "metadata": {},
     "output_type": "execute_result"
    }
   ],
   "source": [
    "from sklearn.linear_model import LinearRegression\n",
    "regressor = LinearRegression()\n",
    "regressor.fit(X_train,Y_train)"
   ]
  },
  {
   "cell_type": "code",
   "execution_count": 13,
   "metadata": {
    "colab": {
     "base_uri": "https://localhost:8080/"
    },
    "executionInfo": {
     "elapsed": 23,
     "status": "ok",
     "timestamp": 1684690847479,
     "user": {
      "displayName": "Shubham Aragade",
      "userId": "10525723912974249560"
     },
     "user_tz": -330
    },
    "id": "VJCg7PoEWpAu",
    "outputId": "9d8c2022-9ea0-42ec-8294-de85a53027f0"
   },
   "outputs": [
    {
     "name": "stdout",
     "output_type": "stream",
     "text": [
      "Intercept:  25937.154502020683\n",
      "Coefficient:  [9413.1154685]\n"
     ]
    }
   ],
   "source": [
    "print(\"Intercept: \", regressor.intercept_)\n",
    "print(\"Coefficient: \", regressor.coef_)"
   ]
  },
  {
   "cell_type": "markdown",
   "metadata": {
    "id": "wdQVAqfHWpAv"
   },
   "source": [
    "From above values our model regression line equation\n",
    "\n",
    "**y=b0+b1*X**\n",
    "\n",
    "**y=26197.767027384238 + 9418.56697369*X**"
   ]
  },
  {
   "cell_type": "markdown",
   "metadata": {
    "id": "cE-UZw1hWpAw"
   },
   "source": [
    "by using above equation lwets find salary for experience=6"
   ]
  },
  {
   "cell_type": "code",
   "execution_count": 14,
   "metadata": {
    "colab": {
     "base_uri": "https://localhost:8080/"
    },
    "executionInfo": {
     "elapsed": 21,
     "status": "ok",
     "timestamp": 1684690847480,
     "user": {
      "displayName": "Shubham Aragade",
      "userId": "10525723912974249560"
     },
     "user_tz": -330
    },
    "id": "Aor7BgcAWpAw",
    "outputId": "072bccae-7b98-4443-a5d8-776e2e1fb760"
   },
   "outputs": [
    {
     "name": "stdout",
     "output_type": "stream",
     "text": [
      "Salary for 6 yr exp:  82709.16886952423\n"
     ]
    }
   ],
   "source": [
    "ynew=26197.767027384238 + 9418.56697369*6\n",
    "print(\"Salary for 6 yr exp: \",ynew)"
   ]
  },
  {
   "cell_type": "code",
   "execution_count": 15,
   "metadata": {
    "id": "J_OENldmWpAy"
   },
   "outputs": [],
   "source": [
    "ypred =regressor.predict(X_test)"
   ]
  },
  {
   "cell_type": "code",
   "execution_count": 16,
   "metadata": {
    "colab": {
     "base_uri": "https://localhost:8080/"
    },
    "executionInfo": {
     "elapsed": 19,
     "status": "ok",
     "timestamp": 1684690847480,
     "user": {
      "displayName": "Shubham Aragade",
      "userId": "10525723912974249560"
     },
     "user_tz": -330
    },
    "id": "_0Af29HLWpA1",
    "outputId": "70739630-6ff8-47dc-d797-3239f213390b"
   },
   "outputs": [
    {
     "name": "stdout",
     "output_type": "stream",
     "text": [
      "[107831.259078    62648.30482918  56059.12400123  40056.82770478\n",
      "  81474.53576619  53235.18936068]\n",
      "24    109431.0\n",
      "10     63218.0\n",
      "7      54445.0\n",
      "2      37731.0\n",
      "18     81363.0\n",
      "5      56642.0\n",
      "Name: Salary, dtype: float64\n"
     ]
    }
   ],
   "source": [
    "print(ypred)\n",
    "print(Y_test)"
   ]
  },
  {
   "cell_type": "markdown",
   "metadata": {
    "id": "tRkVndwjWpA7"
   },
   "source": [
    "#### Accuracy Of Model"
   ]
  },
  {
   "cell_type": "code",
   "execution_count": 17,
   "metadata": {
    "colab": {
     "base_uri": "https://localhost:8080/"
    },
    "executionInfo": {
     "elapsed": 18,
     "status": "ok",
     "timestamp": 1684690847480,
     "user": {
      "displayName": "Shubham Aragade",
      "userId": "10525723912974249560"
     },
     "user_tz": -330
    },
    "id": "alFdg38lWpA_",
    "outputId": "01fede5a-8235-42df-e4ec-8871143ef2ce"
   },
   "outputs": [
    {
     "name": "stdout",
     "output_type": "stream",
     "text": [
      "Training Accuracy:  0.9492886917497556\n"
     ]
    }
   ],
   "source": [
    "# 1. training accuracy\n",
    "\n",
    "print(\"Training Accuracy: \",regressor.score(X_train,Y_train))"
   ]
  },
  {
   "cell_type": "code",
   "execution_count": 18,
   "metadata": {
    "colab": {
     "base_uri": "https://localhost:8080/"
    },
    "executionInfo": {
     "elapsed": 17,
     "status": "ok",
     "timestamp": 1684690847481,
     "user": {
      "displayName": "Shubham Aragade",
      "userId": "10525723912974249560"
     },
     "user_tz": -330
    },
    "id": "p_RcgMByWpBB",
    "outputId": "f735a055-d2dd-44d2-c949-64b5e26335f3"
   },
   "outputs": [
    {
     "name": "stdout",
     "output_type": "stream",
     "text": [
      "Testing Accuracy:  0.9928344802911049\n"
     ]
    }
   ],
   "source": [
    "# 2. testing accuracy\n",
    "\n",
    "print(\"Testing Accuracy: \",regressor.score(X_test,Y_test))"
   ]
  },
  {
   "cell_type": "markdown",
   "metadata": {
    "id": "AN9rebb9WpBC"
   },
   "source": [
    "## Visualizing the model"
   ]
  },
  {
   "cell_type": "markdown",
   "metadata": {
    "id": "cZB6WgAgWpBF"
   },
   "source": [
    "#### Visualize the training data"
   ]
  },
  {
   "cell_type": "code",
   "execution_count": 19,
   "metadata": {
    "colab": {
     "base_uri": "https://localhost:8080/",
     "height": 472
    },
    "executionInfo": {
     "elapsed": 16,
     "status": "ok",
     "timestamp": 1684690847481,
     "user": {
      "displayName": "Shubham Aragade",
      "userId": "10525723912974249560"
     },
     "user_tz": -330
    },
    "id": "6K3edCdAWpBG",
    "outputId": "6574be05-a51a-4038-e2b9-815a5e463364"
   },
   "outputs": [
    {
     "data": {
      "image/png": "[encoded data removed]",
      "text/plain": [
       "<Figure size 640x480 with 1 Axes>"
      ]
     },
     "metadata": {},
     "output_type": "display_data"
    }
   ],
   "source": [
    "plt.scatter(X_train, Y_train, color = \"red\" ,s=12)\n",
    "plt.plot(X_train, regressor.predict(X_train), color = \"blue\")\n",
    "plt.title(\"Simple Regressor on Training Data\")\n",
    "plt.xlabel(\"Experience in years\")\n",
    "plt.ylabel(\"Salary\")\n",
    "plt.show()"
   ]
  },
  {
   "cell_type": "code",
   "execution_count": 20,
   "metadata": {
    "colab": {
     "base_uri": "https://localhost:8080/",
     "height": 472
    },
    "executionInfo": {
     "elapsed": 1235,
     "status": "ok",
     "timestamp": 1684690848701,
     "user": {
      "displayName": "Shubham Aragade",
      "userId": "10525723912974249560"
     },
     "user_tz": -330
    },
    "id": "1Wi-0zi6WpBJ",
    "outputId": "884f93a2-6a43-4803-bb27-900fde0b0443"
   },
   "outputs": [
    {
     "data": {
      "image/png": "[encoded data removed]",
      "text/plain": [
       "<Figure size 640x480 with 1 Axes>"
      ]
     },
     "metadata": {},
     "output_type": "display_data"
    }
   ],
   "source": [
    "plt.scatter(X_test, Y_test, color = \"red\" ,s=12)\n",
    "plt.plot(X_test, regressor.predict(X_test), color = \"blue\")\n",
    "plt.title(\"Simple Regressor on Testing Data\")\n",
    "plt.xlabel(\"Experience in years\")\n",
    "plt.ylabel(\"Salary\")\n",
    "plt.show()"
   ]
  },
  {
   "cell_type": "markdown",
   "metadata": {
    "id": "NKJaB8EcWpBL"
   },
   "source": [
    "**Find R^2 Score of model**"
   ]
  },
  {
   "cell_type": "code",
   "execution_count": 21,
   "metadata": {
    "colab": {
     "base_uri": "https://localhost:8080/"
    },
    "executionInfo": {
     "elapsed": 140,
     "status": "ok",
     "timestamp": 1684690848703,
     "user": {
      "displayName": "Shubham Aragade",
      "userId": "10525723912974249560"
     },
     "user_tz": -330
    },
    "id": "t-pu1GpkWpBL",
    "outputId": "63dbe44d-fb92-4ecb-8b58-b727c8cc6fd8"
   },
   "outputs": [
    {
     "data": {
      "text/plain": [
       "0.9928344802911049"
      ]
     },
     "execution_count": 21,
     "metadata": {},
     "output_type": "execute_result"
    }
   ],
   "source": [
    "from sklearn.metrics import r2_score\n",
    "r2_score(Y_test,ypred)"
   ]
  },
  {
   "cell_type": "markdown",
   "metadata": {
    "id": "OvJPhrYfWpBL"
   },
   "source": [
    "**Test Your Knowledge**"
   ]
  },
  {
   "cell_type": "markdown",
   "metadata": {
    "id": "6EDwtVlzWpBL"
   },
   "source": [
    "**Q1]Predict Salary for 6.1 Year Experience**"
   ]
  },
  {
   "cell_type": "code",
   "execution_count": 22,
   "metadata": {
    "colab": {
     "base_uri": "https://localhost:8080/"
    },
    "executionInfo": {
     "elapsed": 147,
     "status": "ok",
     "timestamp": 1684690848712,
     "user": {
      "displayName": "Shubham Aragade",
      "userId": "10525723912974249560"
     },
     "user_tz": -330
    },
    "id": "10QBMPtvWpBM",
    "outputId": "29551a4f-72d5-4689-ddfa-607fc3034746"
   },
   "outputs": [
    {
     "name": "stdout",
     "output_type": "stream",
     "text": [
      "[83357.15885989]\n"
     ]
    },
    {
     "name": "stderr",
     "output_type": "stream",
     "text": [
      "C:\\ProgramData\\Anaconda3\\lib\\site-packages\\sklearn\\base.py:450: UserWarning: X does not have valid feature names, but LinearRegression was fitted with feature names\n",
      "  warnings.warn(\n"
     ]
    }
   ],
   "source": [
    "predict = regressor.predict([[6.1]])\n",
    "print(predict)"
   ]
  },
  {
   "cell_type": "code",
   "execution_count": 23,
   "metadata": {
    "colab": {
     "base_uri": "https://localhost:8080/"
    },
    "executionInfo": {
     "elapsed": 144,
     "status": "ok",
     "timestamp": 1684690848714,
     "user": {
      "displayName": "Shubham Aragade",
      "userId": "10525723912974249560"
     },
     "user_tz": -330
    },
    "id": "gfrPgrO1WpBM",
    "outputId": "58abae66-19d4-4574-91d3-650e9cb03871"
   },
   "outputs": [
    {
     "name": "stdout",
     "output_type": "stream",
     "text": [
      "83651.02556689324\n"
     ]
    }
   ],
   "source": [
    "p=26197.767027384238 + 9418.56697369*6.1\n",
    "print(p)"
   ]
  },
  {
   "cell_type": "markdown",
   "metadata": {
    "id": "YDXfAT7KWpBM"
   },
   "source": [
    "**Q2. Change the random_state parameter to any number while splitting data into train and test and write the following observations**"
   ]
  },
  {
   "cell_type": "code",
   "execution_count": 24,
   "metadata": {
    "colab": {
     "base_uri": "https://localhost:8080/",
     "height": 74
    },
    "executionInfo": {
     "elapsed": 141,
     "status": "ok",
     "timestamp": 1684690848716,
     "user": {
      "displayName": "Shubham Aragade",
      "userId": "10525723912974249560"
     },
     "user_tz": -330
    },
    "id": "Q2vXPZx5WpBM",
    "outputId": "af16ecc5-d267-4733-9340-98ef715ca955"
   },
   "outputs": [
    {
     "data": {
      "text/plain": [
       "LinearRegression()"
      ]
     },
     "execution_count": 24,
     "metadata": {},
     "output_type": "execute_result"
    }
   ],
   "source": [
    "X_train,X_test,Y_train,Y_test = train_test_split(X,Y,test_size=0.2,random_state=9)\n",
    "\n",
    "# Linear Regression model\n",
    "from sklearn.linear_model import LinearRegression\n",
    "regressor = LinearRegression()\n",
    "regressor.fit(X_train,Y_train)"
   ]
  },
  {
   "cell_type": "code",
   "execution_count": 25,
   "metadata": {
    "colab": {
     "base_uri": "https://localhost:8080/"
    },
    "executionInfo": {
     "elapsed": 129,
     "status": "ok",
     "timestamp": 1684690848718,
     "user": {
      "displayName": "Shubham Aragade",
      "userId": "10525723912974249560"
     },
     "user_tz": -330
    },
    "id": "k6NJVXd3WpBd",
    "outputId": "63e0eec2-2327-42f5-81e5-6079737a3771"
   },
   "outputs": [
    {
     "data": {
      "text/plain": [
       "array([ 61313.16987714,  47581.66400064, 102507.68750666,  56736.00125164,\n",
       "        53989.70007634,  45750.79655044])"
      ]
     },
     "execution_count": 25,
     "metadata": {},
     "output_type": "execute_result"
    }
   ],
   "source": [
    "# model on testing data\n",
    "ypred = regressor.predict(X_test)\n",
    "ypred"
   ]
  },
  {
   "cell_type": "code",
   "execution_count": 26,
   "metadata": {
    "colab": {
     "base_uri": "https://localhost:8080/"
    },
    "executionInfo": {
     "elapsed": 106,
     "status": "ok",
     "timestamp": 1684690848721,
     "user": {
      "displayName": "Shubham Aragade",
      "userId": "10525723912974249560"
     },
     "user_tz": -330
    },
    "id": "zSZ4vYrGWpBd",
    "outputId": "02f6a7b0-4b5f-4b85-8572-d69d4a24855e"
   },
   "outputs": [
    {
     "name": "stdout",
     "output_type": "stream",
     "text": [
      "Training accuracy:  0.9552231515702403\n",
      "Testing accuracy:  0.9388416537799072\n",
      "R**2 score:  0.9388416537799072\n"
     ]
    }
   ],
   "source": [
    "# Accuracy, R**2\n",
    "print(\"Training accuracy: \",regressor.score(X_train,Y_train) )\n",
    "print(\"Testing accuracy: \",regressor.score(X_test,Y_test) )\n",
    "print(\"R**2 score: \",r2_score(Y_test,ypred) )"
   ]
  },
  {
   "cell_type": "code",
   "execution_count": 27,
   "metadata": {
    "colab": {
     "base_uri": "https://localhost:8080/"
    },
    "executionInfo": {
     "elapsed": 79,
     "status": "ok",
     "timestamp": 1684690848723,
     "user": {
      "displayName": "Shubham Aragade",
      "userId": "10525723912974249560"
     },
     "user_tz": -330
    },
    "id": "q8i45t4mWpBd",
    "outputId": "c1b32c07-4f24-4b01-c5a7-71bb9a0d5451"
   },
   "outputs": [
    {
     "name": "stderr",
     "output_type": "stream",
     "text": [
      "C:\\ProgramData\\Anaconda3\\lib\\site-packages\\sklearn\\base.py:450: UserWarning: X does not have valid feature names, but LinearRegression was fitted with feature names\n",
      "  warnings.warn(\n"
     ]
    },
    {
     "data": {
      "text/plain": [
       "array([83283.57927955])"
      ]
     },
     "execution_count": 27,
     "metadata": {},
     "output_type": "execute_result"
    }
   ],
   "source": [
    "# Predict Salary for 6.1 Year Experience\n",
    "regressor.predict([[6.1]])"
   ]
  }
 ],
 "metadata": {
  "colab": {
   "provenance": []
  },
  "kernelspec": {
   "display_name": "Python 3 (ipykernel)",
   "language": "python",
   "name": "python3"
  },
  "language_info": {
   "codemirror_mode": {
    "name": "ipython",
    "version": 3
   },
   "file_extension": ".py",
   "mimetype": "text/x-python",
   "name": "python",
   "nbconvert_exporter": "python",
   "pygments_lexer": "ipython3",
   "version": "3.9.13"
  }
 },
 "nbformat": 4,
 "nbformat_minor": 1
}
